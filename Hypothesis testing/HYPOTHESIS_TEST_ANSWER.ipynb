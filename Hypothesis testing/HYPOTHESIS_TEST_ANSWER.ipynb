{
 "cells": [
  {
   "cell_type": "code",
   "execution_count": 2,
   "id": "fa6d983e-09c5-45be-a331-a38bea5dd044",
   "metadata": {},
   "outputs": [
    {
     "name": "stdout",
     "output_type": "stream",
     "text": [
      "Step 1: Hypotheses\n",
      "H0 (Null Hypothesis): The weekly cost follows the model (μ = Rs. 4,000).\n",
      "H1 (Alternative Hypothesis): The weekly cost is greater than the model (μ > Rs. 4,000).\n",
      "\n"
     ]
    }
   ],
   "source": [
    "import math\n",
    "from scipy.stats import norm\n",
    "\n",
    "# --------------------------------------------------\n",
    "# Step 1: Hypotheses\n",
    "# --------------------------------------------------\n",
    "print(\"Step 1: Hypotheses\")\n",
    "print(\"H0 (Null Hypothesis): The weekly cost follows the model (μ = Rs. 4,000).\")\n",
    "print(\"H1 (Alternative Hypothesis): The weekly cost is greater than the model (μ > Rs. 4,000).\\n\")\n",
    "\n",
    "\n",
    "\n"
   ]
  },
  {
   "cell_type": "code",
   "execution_count": 3,
   "id": "003b31ad-3afc-455a-88ce-9f5be5a46110",
   "metadata": {},
   "outputs": [
    {
     "name": "stdout",
     "output_type": "stream",
     "text": [
      "Step 2: Test Statistic\n",
      "Theoretical mean cost = Rs. 4000\n",
      "Sample mean cost = Rs. 3050\n",
      "Population std. deviation = Rs. 125\n",
      "Sample size = 25\n",
      "Z = (3050 - 4000) / (125 / √25) = -38.000\n",
      "\n"
     ]
    }
   ],
   "source": [
    "# --------------------------------------------------\n",
    "# Step 2: Calculate Test Statistic\n",
    "# --------------------------------------------------\n",
    "\n",
    "# Given values\n",
    "sample_mean = 3050  # x̄\n",
    "X_mean = 600        # units produced\n",
    "sigma_X = 25        # std. dev. of units\n",
    "cost_model_mu = 1000 + 5 * X_mean  # W = 1000 + 5X\n",
    "sample_size = 25\n",
    "\n",
    "# Standard deviation of cost:\n",
    "# Since cost per unit is $5 and std dev. in units = 25,\n",
    "# std dev. in weekly cost = 5 * 25 = 125\n",
    "population_std = 5 * sigma_X\n",
    "\n",
    "# Test statistic (Z)\n",
    "z = (sample_mean - cost_model_mu) / (population_std / math.sqrt(sample_size))\n",
    "print(f\"Step 2: Test Statistic\")\n",
    "print(f\"Theoretical mean cost = Rs. {cost_model_mu}\")\n",
    "print(f\"Sample mean cost = Rs. {sample_mean}\")\n",
    "print(f\"Population std. deviation = Rs. {population_std}\")\n",
    "print(f\"Sample size = {sample_size}\")\n",
    "print(f\"Z = ({sample_mean} - {cost_model_mu}) / ({population_std} / √{sample_size}) = {z:.3f}\\n\")"
   ]
  },
  {
   "cell_type": "code",
   "execution_count": 4,
   "id": "1d6fd535-6b39-4e54-bb99-ea75486672bc",
   "metadata": {},
   "outputs": [
    {
     "name": "stdout",
     "output_type": "stream",
     "text": [
      "Step 3: Critical Value\n",
      "At α = 0.05, critical Z value (one-tailed test) = 1.645\n",
      "\n"
     ]
    }
   ],
   "source": [
    "\n",
    "# --------------------------------------------------\n",
    "# Step 3: Critical Value\n",
    "# --------------------------------------------------\n",
    "alpha = 0.05\n",
    "z_critical = norm.ppf(1 - alpha)\n",
    "\n",
    "print(\"Step 3: Critical Value\")\n",
    "print(f\"At α = 0.05, critical Z value (one-tailed test) = {z_critical:.3f}\\n\")"
   ]
  },
  {
   "cell_type": "code",
   "execution_count": 5,
   "id": "e51d1532-1574-4ab6-bcde-a55914b4fbe7",
   "metadata": {},
   "outputs": [
    {
     "name": "stdout",
     "output_type": "stream",
     "text": [
      "Step 4: Decision\n",
      "Since Z = -38.000 <= Z_critical = 1.645, we fail to reject the null hypothesis.\n",
      "\n"
     ]
    }
   ],
   "source": [
    "\n",
    "# --------------------------------------------------\n",
    "# Step 4: Make a Decision\n",
    "# --------------------------------------------------\n",
    "print(\"Step 4: Decision\")\n",
    "if z > z_critical:\n",
    "    print(f\"Since Z = {z:.3f} > Z_critical = {z_critical:.3f}, we reject the null hypothesis.\\n\")\n",
    "else:\n",
    "    print(f\"Since Z = {z:.3f} <= Z_critical = {z_critical:.3f}, we fail to reject the null hypothesis.\\n\")\n"
   ]
  },
  {
   "cell_type": "code",
   "execution_count": 6,
   "id": "dce25f64-5d2f-4367-8b56-24c6bf77f740",
   "metadata": {},
   "outputs": [
    {
     "name": "stdout",
     "output_type": "stream",
     "text": [
      "Step 5: Conclusion\n",
      " Conclusion: There is not enough evidence to support the claim that costs have increased.\n"
     ]
    }
   ],
   "source": [
    "\n",
    "# --------------------------------------------------\n",
    "# Step 5: Conclusion\n",
    "# --------------------------------------------------\n",
    "print(\"Step 5: Conclusion\")\n",
    "if z > z_critical:\n",
    "    print(\" Conclusion: There is strong evidence to support the restaurant owners' claim that weekly operating costs are higher than the model suggests.\")\n",
    "else:\n",
    "    print(\" Conclusion: There is not enough evidence to support the claim that costs have increased.\")\n"
   ]
  },
  {
   "cell_type": "code",
   "execution_count": null,
   "id": "8b68681e-1d98-4174-884e-42af8d6ebbfc",
   "metadata": {},
   "outputs": [],
   "source": []
  }
 ],
 "metadata": {
  "kernelspec": {
   "display_name": "Python 3 (ipykernel)",
   "language": "python",
   "name": "python3"
  },
  "language_info": {
   "codemirror_mode": {
    "name": "ipython",
    "version": 3
   },
   "file_extension": ".py",
   "mimetype": "text/x-python",
   "name": "python",
   "nbconvert_exporter": "python",
   "pygments_lexer": "ipython3",
   "version": "3.12.1"
  }
 },
 "nbformat": 4,
 "nbformat_minor": 5
}
