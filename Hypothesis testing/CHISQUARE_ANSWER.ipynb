{
 "cells": [
  {
   "cell_type": "code",
   "execution_count": 1,
   "id": "ade38b9a-8970-411e-a7dd-4401d3abda5c",
   "metadata": {},
   "outputs": [
    {
     "name": "stdout",
     "output_type": "stream",
     "text": [
      "Step 1: Hypotheses\n",
      "H0 (Null Hypothesis): Device type and customer satisfaction are independent.\n",
      "H1 (Alternative Hypothesis): There is an association between device type and customer satisfaction.\n",
      "\n"
     ]
    }
   ],
   "source": [
    "import pandas as pd\n",
    "import scipy.stats as stats\n",
    "\n",
    "# -------------------------------------\n",
    "# Step 1: Hypotheses\n",
    "# -------------------------------------\n",
    "print(\"Step 1: Hypotheses\")\n",
    "print(\"H0 (Null Hypothesis): Device type and customer satisfaction are independent.\")\n",
    "print(\"H1 (Alternative Hypothesis): There is an association between device type and customer satisfaction.\\n\")\n"
   ]
  },
  {
   "cell_type": "code",
   "execution_count": 2,
   "id": "701fbccd-e32f-40ed-bc49-c8197485e6d5",
   "metadata": {},
   "outputs": [
    {
     "name": "stdout",
     "output_type": "stream",
     "text": [
      "Observed Frequencies:\n",
      "\n",
      "                  Smart Thermostat  Smart Light\n",
      "Very Satisfied                  50           70\n",
      "Satisfied                       80          100\n",
      "Neutral                         60           90\n",
      "Unsatisfied                     30           50\n",
      "Very Unsatisfied                20           50 \n",
      "\n"
     ]
    }
   ],
   "source": [
    "# -------------------------------------\n",
    "# Step 2: Observed Frequencies\n",
    "# -------------------------------------\n",
    "# Construct the observed contingency table\n",
    "data = [[50, 70],\n",
    "        [80, 100],\n",
    "        [60, 90],\n",
    "        [30, 50],\n",
    "        [20, 50]]\n",
    "\n",
    "# Create DataFrame for clarity\n",
    "observed = pd.DataFrame(data, \n",
    "                        columns=[\"Smart Thermostat\", \"Smart Light\"],\n",
    "                        index=[\"Very Satisfied\", \"Satisfied\", \"Neutral\", \"Unsatisfied\", \"Very Unsatisfied\"])\n",
    "\n",
    "print(\"Observed Frequencies:\\n\")\n",
    "print(observed, \"\\n\")\n"
   ]
  },
  {
   "cell_type": "code",
   "execution_count": 3,
   "id": "66f993b5-0234-4ec4-a21b-b1019461e477",
   "metadata": {},
   "outputs": [
    {
     "name": "stdout",
     "output_type": "stream",
     "text": [
      "Step 3: Chi-Square Test Results\n",
      "Chi-Square Statistic: 5.638\n",
      "Degrees of Freedom: 4\n",
      "P-value: 0.2278\n",
      "\n",
      "Expected Frequencies:\n",
      "\n",
      "                  Smart Thermostat  Smart Light\n",
      "Very Satisfied                48.0         72.0\n",
      "Satisfied                     72.0        108.0\n",
      "Neutral                       60.0         90.0\n",
      "Unsatisfied                   32.0         48.0\n",
      "Very Unsatisfied              28.0         42.0 \n",
      "\n"
     ]
    }
   ],
   "source": [
    "\n",
    "# -------------------------------------\n",
    "# Step 3: Chi-Square Test\n",
    "# -------------------------------------\n",
    "chi2, p, dof, expected = stats.chi2_contingency(observed)\n",
    "\n",
    "print(\"Step 3: Chi-Square Test Results\")\n",
    "print(f\"Chi-Square Statistic: {chi2:.3f}\")\n",
    "print(f\"Degrees of Freedom: {dof}\")\n",
    "print(f\"P-value: {p:.4f}\\n\")\n",
    "\n",
    "# Show expected frequencies\n",
    "expected_df = pd.DataFrame(expected, \n",
    "                           columns=[\"Smart Thermostat\", \"Smart Light\"],\n",
    "                           index=observed.index)\n",
    "print(\"Expected Frequencies:\\n\")\n",
    "print(expected_df.round(2), \"\\n\")\n"
   ]
  },
  {
   "cell_type": "code",
   "execution_count": 5,
   "id": "19b7bef0-2d3f-4bf2-92c2-255eb6357d45",
   "metadata": {},
   "outputs": [
    {
     "name": "stdout",
     "output_type": "stream",
     "text": [
      "Step 4: Critical Value & Decision\n",
      "Critical Value (α = 0.05, df = 4): 9.488\n",
      " Decision: Since Chi-Square = 5.638 <= 9.488, we fail to reject the null hypothesis.\n",
      "\n"
     ]
    }
   ],
   "source": [
    "# -------------------------------------\n",
    "# Step 4: Critical Value & Decision\n",
    "# -------------------------------------\n",
    "alpha = 0.05\n",
    "critical_value = stats.chi2.ppf(1 - alpha, dof)\n",
    "\n",
    "print(\"Step 4: Critical Value & Decision\")\n",
    "print(f\"Critical Value (α = 0.05, df = {dof}): {critical_value:.3f}\")\n",
    "\n",
    "if chi2 > critical_value:\n",
    "    print(f\" Decision: Since Chi-Square = {chi2:.3f} > {critical_value:.3f}, we reject the null hypothesis.\\n\")\n",
    "else:\n",
    "    print(f\" Decision: Since Chi-Square = {chi2:.3f} <= {critical_value:.3f}, we fail to reject the null hypothesis.\\n\")\n",
    "\n"
   ]
  },
  {
   "cell_type": "code",
   "execution_count": 6,
   "id": "e7ae4367-ead0-4829-829e-f94d691eae05",
   "metadata": {},
   "outputs": [
    {
     "name": "stdout",
     "output_type": "stream",
     "text": [
      "Step 5: Conclusion\n",
      "There is no significant association between device type and customer satisfaction.\n"
     ]
    }
   ],
   "source": [
    "# -------------------------------------\n",
    "# Step 5: Conclusion\n",
    "# -------------------------------------\n",
    "print(\"Step 5: Conclusion\")\n",
    "if chi2 > critical_value:\n",
    "    print(\"There is a significant association between device type and customer satisfaction.\")\n",
    "else:\n",
    "    print(\"There is no significant association between device type and customer satisfaction.\")\n"
   ]
  },
  {
   "cell_type": "code",
   "execution_count": null,
   "id": "7f88c80b-397c-4419-b164-b4fa6fcda8f6",
   "metadata": {},
   "outputs": [],
   "source": []
  }
 ],
 "metadata": {
  "kernelspec": {
   "display_name": "Python 3 (ipykernel)",
   "language": "python",
   "name": "python3"
  },
  "language_info": {
   "codemirror_mode": {
    "name": "ipython",
    "version": 3
   },
   "file_extension": ".py",
   "mimetype": "text/x-python",
   "name": "python",
   "nbconvert_exporter": "python",
   "pygments_lexer": "ipython3",
   "version": "3.12.1"
  }
 },
 "nbformat": 4,
 "nbformat_minor": 5
}
