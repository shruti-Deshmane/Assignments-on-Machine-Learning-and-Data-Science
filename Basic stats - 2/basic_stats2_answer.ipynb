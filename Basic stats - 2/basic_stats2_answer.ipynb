{
 "cells": [
  {
   "cell_type": "code",
   "execution_count": 7,
   "id": "4996eef0-a63f-419f-a741-7e978e7b4189",
   "metadata": {},
   "outputs": [
    {
     "name": "stdout",
     "output_type": "stream",
     "text": [
      "Confidence Interval using sample std:\n",
      "1.0902 to 1.3871\n"
     ]
    }
   ],
   "source": [
    "import numpy as np\n",
    "from scipy.stats import t\n",
    "\n",
    "data = [1.13, 1.55, 1.43, 0.92, 1.25, 1.36, 1.32, 0.85, 1.07, 1.48, 1.20, 1.33, 1.18, 1.22, 1.29]\n",
    "\n",
    "n = len(data)\n",
    "mean = np.mean(data)\n",
    "std = np.std(data, ddof=1)\n",
    "\n",
    "t_value = t.ppf(0.995, df=n-1)  # 99% => 0.5% on each tail\n",
    "margin = t_value * (std / np.sqrt(n))\n",
    "\n",
    "print(\"Confidence Interval using sample std:\")\n",
    "print(f\"{mean - margin:.4f} to {mean + margin:.4f}\")\n"
   ]
  },
  {
   "cell_type": "code",
   "execution_count": 8,
   "id": "9018a5cc-974b-452b-adac-8b83228ea00e",
   "metadata": {},
   "outputs": [
    {
     "name": "stdout",
     "output_type": "stream",
     "text": [
      "\n",
      "99% Confidence Interval (using known population std dev):\n",
      "(1.1057, 1.3717)\n"
     ]
    }
   ],
   "source": [
    "# Known population standard deviation\n",
    "sigma = 0.2\n",
    "z_critical = stats.norm.ppf(1 - alpha/2)\n",
    "margin_error_z = z_critical * (sigma / np.sqrt(n))\n",
    "\n",
    "ci_lower_z = mean - margin_error_z\n",
    "ci_upper_z = mean + margin_error_z\n",
    "\n",
    "print(\"\\n99% Confidence Interval (using known population std dev):\")\n",
    "print(f\"({ci_lower_z:.4f}, {ci_upper_z:.4f})\")\n"
   ]
  },
  {
   "cell_type": "code",
   "execution_count": null,
   "id": "f63c3546-406a-4155-bfd9-62dceda830b0",
   "metadata": {},
   "outputs": [],
   "source": [
    "\n"
   ]
  },
  {
   "cell_type": "code",
   "execution_count": null,
   "id": "3ee33adf-edde-48e6-8f92-ba4bbbe9f9f9",
   "metadata": {},
   "outputs": [],
   "source": [
    "\n"
   ]
  },
  {
   "cell_type": "code",
   "execution_count": null,
   "id": "1fc57336-69f4-4521-82ab-a3e26f0bb85b",
   "metadata": {},
   "outputs": [],
   "source": []
  }
 ],
 "metadata": {
  "kernelspec": {
   "display_name": "Python 3 (ipykernel)",
   "language": "python",
   "name": "python3"
  },
  "language_info": {
   "codemirror_mode": {
    "name": "ipython",
    "version": 3
   },
   "file_extension": ".py",
   "mimetype": "text/x-python",
   "name": "python",
   "nbconvert_exporter": "python",
   "pygments_lexer": "ipython3",
   "version": "3.12.1"
  }
 },
 "nbformat": 4,
 "nbformat_minor": 5
}
