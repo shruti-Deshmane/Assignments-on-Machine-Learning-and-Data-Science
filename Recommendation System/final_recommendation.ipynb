{
 "cells": [
  {
   "cell_type": "code",
   "execution_count": 78,
   "id": "d27e85e2-d0f8-4f1a-840a-a7e121b69d7c",
   "metadata": {},
   "outputs": [
    {
     "name": "stderr",
     "output_type": "stream",
     "text": [
      "C:\\Users\\LENOVO\\AppData\\Local\\Programs\\Python\\Python312\\Lib\\site-packages\\sklearn\\feature_extraction\\text.py:525: UserWarning: The parameter 'token_pattern' will not be used since 'tokenizer' is not None'\n",
      "  warnings.warn(\n"
     ]
    },
    {
     "name": "stdout",
     "output_type": "stream",
     "text": [
      "Precision: 1.000\n",
      "Recall: 1.000\n",
      "F1 Score: 1.000\n"
     ]
    },
    {
     "data": {
      "text/plain": [
       "(1.0, 1.0, 1.0)"
      ]
     },
     "execution_count": 78,
     "metadata": {},
     "output_type": "execute_result"
    }
   ],
   "source": [
    "import pandas as pd\n",
    "from sklearn.feature_extraction.text import CountVectorizer\n",
    "from sklearn.model_selection import train_test_split\n",
    "from sklearn.metrics.pairwise import cosine_similarity\n",
    "from sklearn.metrics import precision_score, recall_score, f1_score\n",
    "\n",
    "# Load the dataset\n",
    "anime_df = pd.read_csv(r\"C:\\Users\\LENOVO\\python datascience basics (hydrabad ds)\\ASSIGNMENT DATA SCIENCE\\Recommendation System\\anime.csv\")  # Ensure the path is correct\n",
    "\n",
    "# Drop rows with missing genres\n",
    "anime = anime_df.dropna(subset=['genre']).reset_index(drop=True)\n",
    "\n",
    "# Split into training and testing datasets\n",
    "train_df, test_df = train_test_split(anime, test_size=0.2, random_state=42)\n",
    "\n",
    "# Vectorize genres using CountVectorizer\n",
    "vectorizer = CountVectorizer(tokenizer=lambda x: x.split(', '))\n",
    "train_genres_matrix = vectorizer.fit_transform(train_df['genre'])\n",
    "\n",
    "# Evaluation Function\n",
    "def evaluate_recommendations(train_df, test_df, train_matrix, top_k=5):\n",
    "    y_true, y_pred = [], []\n",
    "\n",
    "    for _, row in test_df.iterrows():\n",
    "        test_genre = row['genre']\n",
    "        if pd.isna(test_genre):\n",
    "            continue\n",
    "        \n",
    "        # Vectorize test genre\n",
    "        test_vector = vectorizer.transform([test_genre])\n",
    "        \n",
    "        # Compute cosine similarity\n",
    "        similarity_scores = cosine_similarity(test_vector, train_matrix).flatten()\n",
    "        top_indices = similarity_scores.argsort()[::-1][:top_k]\n",
    "        \n",
    "        # Compare with recommended genres\n",
    "        test_genre_set = set(test_genre.split(', '))\n",
    "        for idx in top_indices:\n",
    "            rec_genre_set = set(train_df.iloc[idx]['genre'].split(', '))\n",
    "            y_pred.append(1 if test_genre_set.intersection(rec_genre_set) else 0)\n",
    "        \n",
    "        y_true.extend([1] * top_k)\n",
    "\n",
    "    if not y_pred:\n",
    "        print(\"No recommendations to evaluate.\")\n",
    "        return 0, 0, 0\n",
    "\n",
    "    precision = precision_score(y_true, y_pred, zero_division=0)\n",
    "    recall = recall_score(y_true, y_pred, zero_division=0)\n",
    "    f1 = f1_score(y_true, y_pred, zero_division=0)\n",
    "\n",
    "    print(f\"Precision: {precision:.3f}\")\n",
    "    print(f\"Recall: {recall:.3f}\")\n",
    "    print(f\"F1 Score: {f1:.3f}\")\n",
    "    return precision, recall, f1\n",
    "\n",
    "# Run evaluation\n",
    "evaluate_recommendations(train_df, test_df, train_genres_matrix, top_k=5)\n"
   ]
  },
  {
   "cell_type": "raw",
   "id": "7d63384a-19be-4cc4-aeb6-00a0043f3060",
   "metadata": {},
   "source": []
  },
  {
   "cell_type": "raw",
   "id": "05a7665f-7a76-4bd2-878a-fa6ea32b17f6",
   "metadata": {},
   "source": []
  },
  {
   "cell_type": "code",
   "execution_count": 79,
   "id": "6e1060a1-79ff-4fd1-b667-f53e3b2bea93",
   "metadata": {},
   "outputs": [],
   "source": [
    "def recommend_animes(anime_title, df, genre_matrix, top_k=10, threshold=0.3):\n",
    "    if anime_title not in df['name'].values:\n",
    "        print(\"Anime not found in dataset.\")\n",
    "        return pd.DataFrame()\n",
    "\n",
    "    idx = df[df['name'] == anime_title].index[0]\n",
    "    cosine_similarities = cosine_similarity(genre_matrix[idx], genre_matrix).flatten()\n",
    "\n",
    "    # Filter based on threshold and exclude itself\n",
    "    filtered_indices = [i for i, score in enumerate(cosine_similarities) \n",
    "                        if score >= threshold and i != idx]\n",
    "\n",
    "    # Sort and pick top_k\n",
    "    top_indices = sorted(filtered_indices, key=lambda i: cosine_similarities[i], reverse=True)[:top_k]\n",
    "\n",
    "    recommendations = df.iloc[top_indices][['name', 'genre']]\n",
    "    recommendations['Similarity Score'] = [cosine_similarities[i] for i in top_indices]\n",
    "    return recommendations.reset_index(drop=True)\n"
   ]
  },
  {
   "cell_type": "code",
   "execution_count": 80,
   "id": "590f66be-4dcc-4cd9-9822-221aea59294c",
   "metadata": {},
   "outputs": [
    {
     "name": "stdout",
     "output_type": "stream",
     "text": [
      "Threshold = 0.2\n",
      "                                                name  \\\n",
      "0                       Danshi Koukousei no Nichijou   \n",
      "1                                Seitokai Yakuindomo   \n",
      "2              Danshi Koukousei no Nichijou Specials   \n",
      "3                             Gin no Saji 2nd Season   \n",
      "4                                        Gin no Saji   \n",
      "5                               Seitokai Yakuindomo*   \n",
      "6                                           Amanchu!   \n",
      "7  Watashi ga Motenai no wa Dou Kangaetemo Omaera...   \n",
      "8                                              Aiura   \n",
      "9                            Seitokai Yakuindomo OVA   \n",
      "\n",
      "                                    genre  Similarity Score  \n",
      "0  Comedy, School, Shounen, Slice of Life               1.0  \n",
      "1  Comedy, School, Shounen, Slice of Life               1.0  \n",
      "2  Comedy, School, Shounen, Slice of Life               1.0  \n",
      "3  Comedy, School, Shounen, Slice of Life               1.0  \n",
      "4  Comedy, School, Shounen, Slice of Life               1.0  \n",
      "5  Comedy, School, Shounen, Slice of Life               1.0  \n",
      "6  Comedy, School, Shounen, Slice of Life               1.0  \n",
      "7  Comedy, School, Shounen, Slice of Life               1.0  \n",
      "8  Comedy, School, Shounen, Slice of Life               1.0  \n",
      "9  Comedy, School, Shounen, Slice of Life               1.0  \n",
      "\n",
      "Threshold = 0.4\n",
      "                                                name  \\\n",
      "0                       Danshi Koukousei no Nichijou   \n",
      "1                                Seitokai Yakuindomo   \n",
      "2              Danshi Koukousei no Nichijou Specials   \n",
      "3                             Gin no Saji 2nd Season   \n",
      "4                                        Gin no Saji   \n",
      "5                               Seitokai Yakuindomo*   \n",
      "6                                           Amanchu!   \n",
      "7  Watashi ga Motenai no wa Dou Kangaetemo Omaera...   \n",
      "8                                              Aiura   \n",
      "9                            Seitokai Yakuindomo OVA   \n",
      "\n",
      "                                    genre  Similarity Score  \n",
      "0  Comedy, School, Shounen, Slice of Life               1.0  \n",
      "1  Comedy, School, Shounen, Slice of Life               1.0  \n",
      "2  Comedy, School, Shounen, Slice of Life               1.0  \n",
      "3  Comedy, School, Shounen, Slice of Life               1.0  \n",
      "4  Comedy, School, Shounen, Slice of Life               1.0  \n",
      "5  Comedy, School, Shounen, Slice of Life               1.0  \n",
      "6  Comedy, School, Shounen, Slice of Life               1.0  \n",
      "7  Comedy, School, Shounen, Slice of Life               1.0  \n",
      "8  Comedy, School, Shounen, Slice of Life               1.0  \n",
      "9  Comedy, School, Shounen, Slice of Life               1.0  \n",
      "\n",
      "Threshold = 0.6\n",
      "                                                name  \\\n",
      "0                       Danshi Koukousei no Nichijou   \n",
      "1                                Seitokai Yakuindomo   \n",
      "2              Danshi Koukousei no Nichijou Specials   \n",
      "3                             Gin no Saji 2nd Season   \n",
      "4                                        Gin no Saji   \n",
      "5                               Seitokai Yakuindomo*   \n",
      "6                                           Amanchu!   \n",
      "7  Watashi ga Motenai no wa Dou Kangaetemo Omaera...   \n",
      "8                                              Aiura   \n",
      "9                            Seitokai Yakuindomo OVA   \n",
      "\n",
      "                                    genre  Similarity Score  \n",
      "0  Comedy, School, Shounen, Slice of Life               1.0  \n",
      "1  Comedy, School, Shounen, Slice of Life               1.0  \n",
      "2  Comedy, School, Shounen, Slice of Life               1.0  \n",
      "3  Comedy, School, Shounen, Slice of Life               1.0  \n",
      "4  Comedy, School, Shounen, Slice of Life               1.0  \n",
      "5  Comedy, School, Shounen, Slice of Life               1.0  \n",
      "6  Comedy, School, Shounen, Slice of Life               1.0  \n",
      "7  Comedy, School, Shounen, Slice of Life               1.0  \n",
      "8  Comedy, School, Shounen, Slice of Life               1.0  \n",
      "9  Comedy, School, Shounen, Slice of Life               1.0  \n"
     ]
    }
   ],
   "source": [
    "print(\"Threshold = 0.2\")\n",
    "print(recommend_animes(\"Naruto\", train_df, train_genres_matrix, top_k=10, threshold=0.2))\n",
    "\n",
    "print(\"\\nThreshold = 0.4\")\n",
    "print(recommend_animes(\"Naruto\", train_df, train_genres_matrix, top_k=10, threshold=0.4))\n",
    "\n",
    "print(\"\\nThreshold = 0.6\")\n",
    "print(recommend_animes(\"Naruto\", train_df, train_genres_matrix, top_k=10, threshold=0.6))\n"
   ]
  },
  {
   "cell_type": "markdown",
   "id": "0784cb25-c8f7-43d1-a3fc-ca654fd95265",
   "metadata": {},
   "source": [
    "### Hybrid Recommendation"
   ]
  },
  {
   "cell_type": "code",
   "execution_count": 81,
   "id": "8290c840-e0ca-48f3-ae2a-5f1cac8031bc",
   "metadata": {},
   "outputs": [],
   "source": [
    "# Ensure 'genre' column exists and has no missing values\n",
    "anime_df =anime_df.dropna(subset=['genre'])\n",
    "anime_df['genre'] = anime_df['genre'].astype(str)\n",
    "\n",
    "# Now apply TF-IDF vectorization\n",
    "from sklearn.feature_extraction.text import TfidfVectorizer\n",
    "\n",
    "tfidf = TfidfVectorizer(stop_words='english')\n",
    "tfidf_matrix = tfidf.fit_transform(anime_df['genre'])\n",
    "\n"
   ]
  },
  {
   "cell_type": "code",
   "execution_count": 82,
   "id": "128386e8-57d5-44f1-bc14-410379b2c499",
   "metadata": {},
   "outputs": [],
   "source": [
    "from sklearn.preprocessing import MinMaxScaler\n",
    "\n",
    "#from sklearn.preprocessing import MinMaxScaler\n",
    "\n",
    "scaler = MinMaxScaler()\n",
    "anime_df['rating'] = anime_df['rating'].fillna(0)\n",
    "anime_df['rating_normalized'] = scaler.fit_transform(anime_df[['rating']])\n",
    "\n"
   ]
  },
  {
   "cell_type": "code",
   "execution_count": 83,
   "id": "91d9df24-9b3e-4b15-96b6-6dd1107fd47f",
   "metadata": {},
   "outputs": [],
   "source": [
    "from sklearn.feature_extraction.text import TfidfVectorizer\n",
    "\n",
    "# Ensure no null genre values and convert to string\n",
    "anime_df =anime_df.dropna(subset=['genre'])\n",
    "anime_df['genre'] = anime_df['genre'].astype(str)\n",
    "\n",
    "# Vectorize genre text\n",
    "tfidf = TfidfVectorizer(stop_words='english')\n",
    "tfidf_matrix = tfidf.fit_transform(anime_df['genre'])\n"
   ]
  },
  {
   "cell_type": "code",
   "execution_count": 84,
   "id": "dc788231-9b1b-40bd-a7ff-26c40e3fd369",
   "metadata": {},
   "outputs": [],
   "source": [
    "from sklearn.metrics.pairwise import cosine_similarity\n",
    "import numpy as np\n",
    "from sklearn.metrics.pairwise import cosine_similarity\n",
    "\n",
    "def hybrid_recommendation(anime_title, top_n=10):\n",
    "    if anime_title not in anime_df['name'].values:\n",
    "        return f\"'{anime_title}' not found in anime list.\"\n",
    "\n",
    "    # Correct index selection\n",
    "    idx = anime_df[anime_df['name'] == anime_title].index[0]\n",
    "\n",
    "    # Compute genre similarity\n",
    "    genre_similarity = cosine_similarity(tfidf_matrix[idx], tfidf_matrix)[0]\n",
    "\n",
    "    # Combine similarity and normalized rating\n",
    "    combined_score = 0.7 * genre_similarity + 0.3 * anime_df['rating_normalized'].values\n",
    "\n",
    "    # Get top N recommendations\n",
    "    top_indices = combined_score.argsort()[::-1][1:top_n+1]\n",
    "    return anime_df.iloc[top_indices][['name', 'genre', 'rating']]\n"
   ]
  },
  {
   "cell_type": "code",
   "execution_count": 85,
   "id": "3d1a22c0-d7ae-4143-b04a-4ab4dbdada0e",
   "metadata": {},
   "outputs": [
    {
     "name": "stdout",
     "output_type": "stream",
     "text": [
      "0                                        Kimi no Na wa.\n",
      "1                      Fullmetal Alchemist: Brotherhood\n",
      "2                                              Gintama°\n",
      "3                                           Steins;Gate\n",
      "4                                         Gintama&#039;\n",
      "5     Haikyuu!!: Karasuno Koukou VS Shiratorizawa Ga...\n",
      "6                                Hunter x Hunter (2011)\n",
      "7                                  Ginga Eiyuu Densetsu\n",
      "8     Gintama Movie: Kanketsu-hen - Yorozuya yo Eien...\n",
      "9                              Gintama&#039;: Enchousen\n",
      "10                                 Clannad: After Story\n",
      "11                                       Koe no Katachi\n",
      "12                                              Gintama\n",
      "13                   Code Geass: Hangyaku no Lelouch R2\n",
      "14                              Haikyuu!! Second Season\n",
      "15                        Sen to Chihiro no Kamikakushi\n",
      "16                              Shigatsu wa Kimi no Uso\n",
      "17                        Mushishi Zoku Shou 2nd Season\n",
      "18                         Ookami Kodomo no Ame to Yuki\n",
      "19                      Code Geass: Hangyaku no Lelouch\n",
      "Name: name, dtype: object\n",
      "                                                   name  \\\n",
      "615                                  Naruto: Shippuuden   \n",
      "841                                              Naruto   \n",
      "1103  Boruto: Naruto the Movie - Naruto ga Hokage ni...   \n",
      "1343                                        Naruto x UT   \n",
      "1472        Naruto: Shippuuden Movie 4 - The Lost Tower   \n",
      "1573  Naruto: Shippuuden Movie 3 - Hi no Ishi wo Tsu...   \n",
      "2458               Naruto Shippuuden: Sunny Side Battle   \n",
      "2997  Naruto Soyokazeden Movie: Naruto to Mashin to ...   \n",
      "206                                       Dragon Ball Z   \n",
      "784          Naruto: Shippuuden Movie 6 - Road to Ninja   \n",
      "\n",
      "                                                  genre  rating  \n",
      "615   Action, Comedy, Martial Arts, Shounen, Super P...    7.94  \n",
      "841   Action, Comedy, Martial Arts, Shounen, Super P...    7.81  \n",
      "1103  Action, Comedy, Martial Arts, Shounen, Super P...    7.68  \n",
      "1343  Action, Comedy, Martial Arts, Shounen, Super P...    7.58  \n",
      "1472  Action, Comedy, Martial Arts, Shounen, Super P...    7.53  \n",
      "1573  Action, Comedy, Martial Arts, Shounen, Super P...    7.50  \n",
      "2458  Action, Comedy, Martial Arts, Shounen, Super P...    7.26  \n",
      "2997  Action, Comedy, Martial Arts, Shounen, Super P...    7.11  \n",
      "206   Action, Adventure, Comedy, Fantasy, Martial Ar...    8.32  \n",
      "784   Action, Adventure, Martial Arts, Shounen, Supe...    7.84  \n"
     ]
    }
   ],
   "source": [
    "print(anime_df['name'].head(20))  # Preview titles to choose from\n",
    "\n",
    "# Run recommendation\n",
    "recommendations = hybrid_recommendation(\"Naruto\")\n",
    "print(recommendations)\n"
   ]
  },
  {
   "cell_type": "code",
   "execution_count": null,
   "id": "5b45179e-c279-400b-88a9-e1e49422583f",
   "metadata": {},
   "outputs": [],
   "source": []
  },
  {
   "cell_type": "code",
   "execution_count": null,
   "id": "58b48026-cc86-47c1-ad92-0c14f71873cf",
   "metadata": {},
   "outputs": [],
   "source": []
  },
  {
   "cell_type": "code",
   "execution_count": null,
   "id": "f42340b8-4a63-405f-884b-f83089b5b7d2",
   "metadata": {},
   "outputs": [],
   "source": []
  },
  {
   "cell_type": "code",
   "execution_count": 86,
   "id": "26bb19bf-1923-4b8d-9ee8-6ec004b0b22c",
   "metadata": {},
   "outputs": [],
   "source": [
    "from sklearn.feature_extraction.text import TfidfVectorizer\n"
   ]
  },
  {
   "cell_type": "code",
   "execution_count": 87,
   "id": "e28dcdea-53ec-4285-9728-e2b0f0d6098d",
   "metadata": {},
   "outputs": [],
   "source": [
    "tfidf_vectorizer = TfidfVectorizer(stop_words='english')\n",
    "tfidf_matrix = tfidf_vectorizer.fit_transform(anime_df['genre'].fillna(''))\n",
    "anime_df['rating_normalized'] = (\n",
    "    anime_df['rating'] - anime_df['rating'].min()\n",
    ") / (anime_df['rating'].max() - anime_df['rating'].min())\n"
   ]
  },
  {
   "cell_type": "code",
   "execution_count": 88,
   "id": "41a39fbc-4d4b-4de6-99d9-93741eb7040c",
   "metadata": {},
   "outputs": [],
   "source": [
    "def hybrid_recommendation(anime_title, top_n=10):\n",
    "    idx = anime_df[anime_df['name'] == anime_title].index[0]\n",
    "    genre_similarity = cosine_similarity(tfidf_matrix[idx], tfidf_matrix)[0]\n",
    "\n",
    "    combined_score = 0.7 * genre_similarity + 0.3 * anime_df['rating_normalized'].values\n",
    "    top_indices = combined_score.argsort()[::-1][1:top_n+1]\n",
    "\n",
    "    return anime_df.iloc[top_indices][['name', 'genre', 'rating']]\n"
   ]
  },
  {
   "cell_type": "code",
   "execution_count": 89,
   "id": "78611465-29f7-40a7-bc60-5fdc64a6dc0a",
   "metadata": {},
   "outputs": [
    {
     "name": "stdout",
     "output_type": "stream",
     "text": [
      "0                                        Kimi no Na wa.\n",
      "1                      Fullmetal Alchemist: Brotherhood\n",
      "2                                              Gintama°\n",
      "3                                           Steins;Gate\n",
      "4                                         Gintama&#039;\n",
      "5     Haikyuu!!: Karasuno Koukou VS Shiratorizawa Ga...\n",
      "6                                Hunter x Hunter (2011)\n",
      "7                                  Ginga Eiyuu Densetsu\n",
      "8     Gintama Movie: Kanketsu-hen - Yorozuya yo Eien...\n",
      "9                              Gintama&#039;: Enchousen\n",
      "10                                 Clannad: After Story\n",
      "11                                       Koe no Katachi\n",
      "12                                              Gintama\n",
      "13                   Code Geass: Hangyaku no Lelouch R2\n",
      "14                              Haikyuu!! Second Season\n",
      "15                        Sen to Chihiro no Kamikakushi\n",
      "16                              Shigatsu wa Kimi no Uso\n",
      "17                        Mushishi Zoku Shou 2nd Season\n",
      "18                         Ookami Kodomo no Ame to Yuki\n",
      "19                      Code Geass: Hangyaku no Lelouch\n",
      "Name: name, dtype: object\n",
      "                                                   name  \\\n",
      "615                                  Naruto: Shippuuden   \n",
      "841                                              Naruto   \n",
      "1103  Boruto: Naruto the Movie - Naruto ga Hokage ni...   \n",
      "1343                                        Naruto x UT   \n",
      "1472        Naruto: Shippuuden Movie 4 - The Lost Tower   \n",
      "1573  Naruto: Shippuuden Movie 3 - Hi no Ishi wo Tsu...   \n",
      "2458               Naruto Shippuuden: Sunny Side Battle   \n",
      "2997  Naruto Soyokazeden Movie: Naruto to Mashin to ...   \n",
      "206                                       Dragon Ball Z   \n",
      "784          Naruto: Shippuuden Movie 6 - Road to Ninja   \n",
      "\n",
      "                                                  genre  rating  \n",
      "615   Action, Comedy, Martial Arts, Shounen, Super P...    7.94  \n",
      "841   Action, Comedy, Martial Arts, Shounen, Super P...    7.81  \n",
      "1103  Action, Comedy, Martial Arts, Shounen, Super P...    7.68  \n",
      "1343  Action, Comedy, Martial Arts, Shounen, Super P...    7.58  \n",
      "1472  Action, Comedy, Martial Arts, Shounen, Super P...    7.53  \n",
      "1573  Action, Comedy, Martial Arts, Shounen, Super P...    7.50  \n",
      "2458  Action, Comedy, Martial Arts, Shounen, Super P...    7.26  \n",
      "2997  Action, Comedy, Martial Arts, Shounen, Super P...    7.11  \n",
      "206   Action, Adventure, Comedy, Fantasy, Martial Ar...    8.32  \n",
      "784   Action, Adventure, Martial Arts, Shounen, Supe...    7.84  \n"
     ]
    }
   ],
   "source": [
    "# Example: Check available titles\n",
    "print(anime_df['name'].head(20))\n",
    "\n",
    "# Pick one title from above\n",
    "recommendations = hybrid_recommendation(\"Naruto\")\n",
    "print(recommendations)\n"
   ]
  },
  {
   "cell_type": "code",
   "execution_count": 90,
   "id": "1d0b4fac-3811-449e-a7ef-c958969af137",
   "metadata": {},
   "outputs": [
    {
     "name": "stdout",
     "output_type": "stream",
     "text": [
      "0                                        Kimi no Na wa.\n",
      "1                      Fullmetal Alchemist: Brotherhood\n",
      "2                                              Gintama°\n",
      "3                                           Steins;Gate\n",
      "4                                         Gintama&#039;\n",
      "5     Haikyuu!!: Karasuno Koukou VS Shiratorizawa Ga...\n",
      "6                                Hunter x Hunter (2011)\n",
      "7                                  Ginga Eiyuu Densetsu\n",
      "8     Gintama Movie: Kanketsu-hen - Yorozuya yo Eien...\n",
      "9                              Gintama&#039;: Enchousen\n",
      "10                                 Clannad: After Story\n",
      "11                                       Koe no Katachi\n",
      "12                                              Gintama\n",
      "13                   Code Geass: Hangyaku no Lelouch R2\n",
      "14                              Haikyuu!! Second Season\n",
      "15                        Sen to Chihiro no Kamikakushi\n",
      "16                              Shigatsu wa Kimi no Uso\n",
      "17                        Mushishi Zoku Shou 2nd Season\n",
      "18                         Ookami Kodomo no Ame to Yuki\n",
      "19                      Code Geass: Hangyaku no Lelouch\n",
      "Name: name, dtype: object\n",
      "                                                   name  \\\n",
      "615                                  Naruto: Shippuuden   \n",
      "841                                              Naruto   \n",
      "1103  Boruto: Naruto the Movie - Naruto ga Hokage ni...   \n",
      "1343                                        Naruto x UT   \n",
      "1472        Naruto: Shippuuden Movie 4 - The Lost Tower   \n",
      "1573  Naruto: Shippuuden Movie 3 - Hi no Ishi wo Tsu...   \n",
      "2458               Naruto Shippuuden: Sunny Side Battle   \n",
      "2997  Naruto Soyokazeden Movie: Naruto to Mashin to ...   \n",
      "206                                       Dragon Ball Z   \n",
      "784          Naruto: Shippuuden Movie 6 - Road to Ninja   \n",
      "\n",
      "                                                  genre  rating  \n",
      "615   Action, Comedy, Martial Arts, Shounen, Super P...    7.94  \n",
      "841   Action, Comedy, Martial Arts, Shounen, Super P...    7.81  \n",
      "1103  Action, Comedy, Martial Arts, Shounen, Super P...    7.68  \n",
      "1343  Action, Comedy, Martial Arts, Shounen, Super P...    7.58  \n",
      "1472  Action, Comedy, Martial Arts, Shounen, Super P...    7.53  \n",
      "1573  Action, Comedy, Martial Arts, Shounen, Super P...    7.50  \n",
      "2458  Action, Comedy, Martial Arts, Shounen, Super P...    7.26  \n",
      "2997  Action, Comedy, Martial Arts, Shounen, Super P...    7.11  \n",
      "206   Action, Adventure, Comedy, Fantasy, Martial Ar...    8.32  \n",
      "784   Action, Adventure, Martial Arts, Shounen, Supe...    7.84  \n"
     ]
    }
   ],
   "source": [
    "# Example: Check available titles\n",
    "print(anime_df['name'].head(20))\n",
    "\n",
    "# Pick one title from above\n",
    "recommendations = hybrid_recommendation(\"Naruto\")\n",
    "print(recommendations)\n"
   ]
  },
  {
   "cell_type": "markdown",
   "id": "c486fd46-f731-40eb-98ae-2a0fef77b02f",
   "metadata": {},
   "source": [
    "### Handle Cold Start Problem"
   ]
  },
  {
   "cell_type": "code",
   "execution_count": 91,
   "id": "4bd9702c-c6bd-4012-b57f-88b1ff7bcf87",
   "metadata": {},
   "outputs": [
    {
     "name": "stdout",
     "output_type": "stream",
     "text": [
      "                                          name  \\\n",
      "10464  Taka no Tsume 8: Yoshida-kun no X-Files   \n",
      "10400              Spoon-hime no Swing Kitchen   \n",
      "9595                          Mogura no Motoro   \n",
      "0                               Kimi no Na wa.   \n",
      "9078                              Kahei no Umi   \n",
      "1             Fullmetal Alchemist: Brotherhood   \n",
      "10786          Yakusoku: Africa Mizu to Midori   \n",
      "2                                     Gintama°   \n",
      "3                                  Steins;Gate   \n",
      "4                                Gintama&#039;   \n",
      "\n",
      "                                                   genre  rating  \n",
      "10464                                     Comedy, Parody   10.00  \n",
      "10400                                    Adventure, Kids    9.60  \n",
      "9595                                       Slice of Life    9.50  \n",
      "0                   Drama, Romance, School, Supernatural    9.37  \n",
      "9078                                          Historical    9.33  \n",
      "1      Action, Adventure, Drama, Fantasy, Magic, Mili...    9.26  \n",
      "10786                                        Drama, Kids    9.25  \n",
      "2      Action, Comedy, Historical, Parody, Samurai, S...    9.25  \n",
      "3                                       Sci-Fi, Thriller    9.17  \n",
      "4      Action, Comedy, Historical, Parody, Samurai, S...    9.16  \n"
     ]
    }
   ],
   "source": [
    "###For New Users (no history)\n",
    "def top_popular_anime(top_n=10):\n",
    "    return anime_df.sort_values(by='rating', ascending=False)[['name', 'genre', 'rating']].head(top_n)\n",
    "\n",
    "print(top_popular_anime())\n"
   ]
  },
  {
   "cell_type": "code",
   "execution_count": 92,
   "id": "ea356b1e-2126-491b-907a-ed27ef9d7ec1",
   "metadata": {},
   "outputs": [
    {
     "name": "stdout",
     "output_type": "stream",
     "text": [
      "                                                   name  \\\n",
      "615                                  Naruto: Shippuuden   \n",
      "2997  Naruto Soyokazeden Movie: Naruto to Mashin to ...   \n",
      "2458               Naruto Shippuuden: Sunny Side Battle   \n",
      "1343                                        Naruto x UT   \n",
      "1472        Naruto: Shippuuden Movie 4 - The Lost Tower   \n",
      "1103  Boruto: Naruto the Movie - Naruto ga Hokage ni...   \n",
      "1573  Naruto: Shippuuden Movie 3 - Hi no Ishi wo Tsu...   \n",
      "486                            Boruto: Naruto the Movie   \n",
      "7628                            Kyutai Panic Adventure!   \n",
      "2416  Naruto: Honoo no Chuunin Shiken! Naruto vs. Ko...   \n",
      "\n",
      "                                                  genre  rating  \n",
      "615   Action, Comedy, Martial Arts, Shounen, Super P...    7.94  \n",
      "2997  Action, Comedy, Martial Arts, Shounen, Super P...    7.11  \n",
      "2458  Action, Comedy, Martial Arts, Shounen, Super P...    7.26  \n",
      "1343  Action, Comedy, Martial Arts, Shounen, Super P...    7.58  \n",
      "1472  Action, Comedy, Martial Arts, Shounen, Super P...    7.53  \n",
      "1103  Action, Comedy, Martial Arts, Shounen, Super P...    7.68  \n",
      "1573  Action, Comedy, Martial Arts, Shounen, Super P...    7.50  \n",
      "486   Action, Comedy, Martial Arts, Shounen, Super P...    8.03  \n",
      "7628         Action, Martial Arts, Shounen, Super Power    5.21  \n",
      "2416  Action, Adventure, Martial Arts, Shounen, Supe...    7.27  \n"
     ]
    }
   ],
   "source": [
    "### For New Items (no ratings yet)\n",
    "def content_based_recommendation(anime_title, top_n=10):\n",
    "    idx = anime_df[anime_df['name'] == anime_title].index[0]\n",
    "    sim_scores = cosine_similarity(tfidf_matrix[idx], tfidf_matrix).flatten()\n",
    "    top_indices = sim_scores.argsort()[::-1][1:top_n+1]\n",
    "    return anime_df.iloc[top_indices][['name', 'genre', 'rating']]\n",
    "\n",
    "print(content_based_recommendation(\"Naruto\"))\n"
   ]
  },
  {
   "cell_type": "code",
   "execution_count": null,
   "id": "e69f3347-195d-4a0a-9755-40575de20369",
   "metadata": {},
   "outputs": [],
   "source": []
  },
  {
   "cell_type": "markdown",
   "id": "f8319219-bd76-4cf3-9b0a-97a1aa15cdfd",
   "metadata": {},
   "source": [
    "### 1. Can you explain the difference between user-based and item-based collaborative filtering?\n",
    "\n",
    "User-based: Recommends items to a user based on preferences of similar users.\n",
    "\n",
    "Item-based: Recommends items similar to those the user has liked in the past.\n",
    "User-user similarity vs. Item-item similarity.\n",
    "\n",
    "### 2. What is collaborative filtering, and how does it work?\n",
    "Collaborative filtering is a recommendation technique that predicts a user’s interests by collecting preferences from many users.\n",
    "It works by finding similarities between users or items using their ratings or interactions.\n",
    "\n"
   ]
  },
  {
   "cell_type": "code",
   "execution_count": null,
   "id": "d36db694-e8dd-4b7e-bc2f-65f9882b85c4",
   "metadata": {},
   "outputs": [],
   "source": []
  }
 ],
 "metadata": {
  "kernelspec": {
   "display_name": "Python 3 (ipykernel)",
   "language": "python",
   "name": "python3"
  },
  "language_info": {
   "codemirror_mode": {
    "name": "ipython",
    "version": 3
   },
   "file_extension": ".py",
   "mimetype": "text/x-python",
   "name": "python",
   "nbconvert_exporter": "python",
   "pygments_lexer": "ipython3",
   "version": "3.12.1"
  }
 },
 "nbformat": 4,
 "nbformat_minor": 5
}
